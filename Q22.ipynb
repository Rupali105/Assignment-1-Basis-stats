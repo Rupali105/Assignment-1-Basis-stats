{
 "cells": [
  {
   "cell_type": "markdown",
   "id": "0602e35d",
   "metadata": {},
   "source": [
    "# Q 22) Calculate the Z scores of  90% confidence interval,94% confidence interval, 60% confidence interval "
   ]
  },
  {
   "cell_type": "markdown",
   "id": "258bbbd7",
   "metadata": {},
   "source": [
    "Z score at 90%  ,error is 10% and it is divided at both end we need to consider 0.05 error overall area is\n",
    "(0.90+0.05=0.95)"
   ]
  },
  {
   "cell_type": "code",
   "execution_count": 1,
   "id": "74080517",
   "metadata": {},
   "outputs": [],
   "source": [
    "from scipy import stats\n",
    "\n",
    "import numpy as np\n",
    "import pandas as pd\n",
    "import scipy.stats as st"
   ]
  },
  {
   "cell_type": "code",
   "execution_count": 3,
   "id": "4a489fe9",
   "metadata": {},
   "outputs": [
    {
     "data": {
      "text/plain": [
       "1.6448536269514722"
      ]
     },
     "execution_count": 3,
     "metadata": {},
     "output_type": "execute_result"
    }
   ],
   "source": [
    "stats.norm.ppf(0.95)"
   ]
  },
  {
   "cell_type": "markdown",
   "id": "b6e1d611",
   "metadata": {},
   "source": [
    "Z score at 94%  ,error is 6% and it is divided at both end we need to consider 0.03 error, overall area is (0.94+0.03=0.97)"
   ]
  },
  {
   "cell_type": "code",
   "execution_count": 5,
   "id": "a92eed00",
   "metadata": {},
   "outputs": [
    {
     "data": {
      "text/plain": [
       "1.8807936081512509"
      ]
     },
     "execution_count": 5,
     "metadata": {},
     "output_type": "execute_result"
    }
   ],
   "source": [
    "stats.norm.ppf(0.97)"
   ]
  },
  {
   "cell_type": "markdown",
   "id": "9b43780f",
   "metadata": {},
   "source": [
    "Z score at 60% ,error is 40% and it is divided at both end \n",
    "we need to consider 0.20 error, overall area is (0.60+0.20=0.80)"
   ]
  },
  {
   "cell_type": "code",
   "execution_count": 6,
   "id": "f23b07f7",
   "metadata": {},
   "outputs": [
    {
     "data": {
      "text/plain": [
       "0.8416212335729143"
      ]
     },
     "execution_count": 6,
     "metadata": {},
     "output_type": "execute_result"
    }
   ],
   "source": [
    "stats.norm.ppf(0.80)"
   ]
  }
 ],
 "metadata": {
  "kernelspec": {
   "display_name": "Python 3 (ipykernel)",
   "language": "python",
   "name": "python3"
  },
  "language_info": {
   "codemirror_mode": {
    "name": "ipython",
    "version": 3
   },
   "file_extension": ".py",
   "mimetype": "text/x-python",
   "name": "python",
   "nbconvert_exporter": "python",
   "pygments_lexer": "ipython3",
   "version": "3.11.5"
  }
 },
 "nbformat": 4,
 "nbformat_minor": 5
}
