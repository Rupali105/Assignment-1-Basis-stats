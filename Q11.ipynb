{
 "cells": [
  {
   "cell_type": "markdown",
   "id": "5927fd29",
   "metadata": {},
   "source": [
    "# Q11)  \n",
    "Suppose we want to estimate the average weight of an adult male in    Mexico. We draw a random sample of 2,000 men from a population of 3,000,000 men and weigh them. We find that the average person in our sample weighs 200 pounds, and the standard deviation of the sample is 30 pounds. Calculate 94%,98%,96% confidence interval?"
   ]
  },
  {
   "cell_type": "markdown",
   "id": "6f4e42bc",
   "metadata": {},
   "source": [
    "# Given\n",
    "#sample size # N=2000\n",
    "\n",
    "#Sample mean 200\n",
    "\n",
    "#Sample standard Deviation =30\n",
    "\n",
    "here we have sample parameters given so we will use t test"
   ]
  },
  {
   "cell_type": "code",
   "execution_count": 2,
   "id": "814e1540",
   "metadata": {},
   "outputs": [],
   "source": [
    "import numpy as np\n",
    "import pandas as pd\n",
    "from scipy import stats\n",
    "from scipy.stats import norm"
   ]
  },
  {
   "cell_type": "code",
   "execution_count": 7,
   "id": "f510c57b",
   "metadata": {},
   "outputs": [
    {
     "data": {
      "text/plain": [
       "(198.7376089443071, 201.2623910556929)"
      ]
     },
     "execution_count": 7,
     "metadata": {},
     "output_type": "execute_result"
    }
   ],
   "source": [
    "conf_94 =stats.t.interval(0.94, df=1999, loc=200, scale=30/np.sqrt(2000))\n",
    "conf_94"
   ]
  },
  {
   "cell_type": "code",
   "execution_count": 8,
   "id": "586550e6",
   "metadata": {},
   "outputs": [
    {
     "data": {
      "text/plain": [
       "(198.4381860483216, 201.5618139516784)"
      ]
     },
     "execution_count": 8,
     "metadata": {},
     "output_type": "execute_result"
    }
   ],
   "source": [
    "conf_98 =stats.t.interval(0.98, df=1999, loc=200, scale=30/np.sqrt(2000))\n",
    "conf_98"
   ]
  },
  {
   "cell_type": "code",
   "execution_count": 9,
   "id": "4fd63963",
   "metadata": {},
   "outputs": [
    {
     "data": {
      "text/plain": [
       "(198.6214037429732, 201.3785962570268)"
      ]
     },
     "execution_count": 9,
     "metadata": {},
     "output_type": "execute_result"
    }
   ],
   "source": [
    "conf_96 =stats.t.interval(0.96, df=1999, loc=200, scale=30/np.sqrt(2000))\n",
    "conf_96"
   ]
  },
  {
   "cell_type": "code",
   "execution_count": null,
   "id": "2f7b3ac5",
   "metadata": {},
   "outputs": [],
   "source": []
  },
  {
   "cell_type": "code",
   "execution_count": null,
   "id": "cf9e5e3e",
   "metadata": {},
   "outputs": [],
   "source": []
  },
  {
   "cell_type": "code",
   "execution_count": null,
   "id": "4caa7034",
   "metadata": {},
   "outputs": [],
   "source": []
  }
 ],
 "metadata": {
  "kernelspec": {
   "display_name": "Python 3 (ipykernel)",
   "language": "python",
   "name": "python3"
  },
  "language_info": {
   "codemirror_mode": {
    "name": "ipython",
    "version": 3
   },
   "file_extension": ".py",
   "mimetype": "text/x-python",
   "name": "python",
   "nbconvert_exporter": "python",
   "pygments_lexer": "ipython3",
   "version": "3.11.5"
  }
 },
 "nbformat": 4,
 "nbformat_minor": 5
}
