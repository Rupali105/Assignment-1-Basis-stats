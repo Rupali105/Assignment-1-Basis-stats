{
 "cells": [
  {
   "cell_type": "markdown",
   "id": "99088a75",
   "metadata": {},
   "source": [
    "#   Q 24)   A Government  company claims that an average light bulb lasts 270 days. A researcher randomly selects 18 bulbs for testing. The sampled bulbs last an average of 260 days, with a standard deviation of 90 days. If the CEO's claim were true, what is the probability that 18 randomly selected bulbs would have an average life of no more than 260 days\n",
    "Hint:  \n",
    "   rcode   pt(tscore,df)  \n",
    " df  degrees of freedom\n"
   ]
  },
  {
   "cell_type": "code",
   "execution_count": 1,
   "id": "56fcf3cd",
   "metadata": {},
   "outputs": [],
   "source": [
    "from scipy import stats\n",
    "from scipy.stats import norm"
   ]
  },
  {
   "cell_type": "markdown",
   "id": "206e2432",
   "metadata": {},
   "source": [
    "Assume Null Hypothesis is: Ho = Avg life of Bulb >= 260 days\n",
    "\n",
    "Alternate Hypothesis is: Ha = Avg life of Bulb < 260 days"
   ]
  },
  {
   "cell_type": "code",
   "execution_count": 2,
   "id": "15ecbc4a",
   "metadata": {},
   "outputs": [
    {
     "data": {
      "text/plain": [
       "-0.4714045207910317"
      ]
     },
     "execution_count": 2,
     "metadata": {},
     "output_type": "execute_result"
    }
   ],
   "source": [
    "# find t-scores at x=260; \n",
    "t=(260-270)/(90/18**0.5)\n",
    "t"
   ]
  },
  {
   "cell_type": "markdown",
   "id": "4056d92c",
   "metadata": {},
   "source": [
    "Find P(X>=260) for null hypothesis"
   ]
  },
  {
   "cell_type": "code",
   "execution_count": 4,
   "id": "7a321697",
   "metadata": {},
   "outputs": [
    {
     "data": {
      "text/plain": [
       "0.32167411684460556"
      ]
     },
     "execution_count": 4,
     "metadata": {},
     "output_type": "execute_result"
    }
   ],
   "source": [
    "\n",
    "p=1-stats.t.cdf(abs(-0.4714),df=17)\n",
    "p"
   ]
  }
 ],
 "metadata": {
  "kernelspec": {
   "display_name": "Python 3 (ipykernel)",
   "language": "python",
   "name": "python3"
  },
  "language_info": {
   "codemirror_mode": {
    "name": "ipython",
    "version": 3
   },
   "file_extension": ".py",
   "mimetype": "text/x-python",
   "name": "python",
   "nbconvert_exporter": "python",
   "pygments_lexer": "ipython3",
   "version": "3.11.5"
  }
 },
 "nbformat": 4,
 "nbformat_minor": 5
}
